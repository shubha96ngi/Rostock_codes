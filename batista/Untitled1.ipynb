{
 "cells": [
  {
   "cell_type": "code",
   "execution_count": 1,
   "id": "ae173e48-45fa-4ea1-8e42-5de20f8f7c31",
   "metadata": {},
   "outputs": [],
   "source": [
    "import brainpy as bp\n",
    "import brainpy.math as bm\n",
    "import matplotlib.pyplot as plt\n",
    "from brainpy._src.integrators import JointEq\n",
    "from brainpy._src.context import share\n",
    "\n",
    "bp.math.set_dt(0.04)"
   ]
  },
  {
   "cell_type": "code",
   "execution_count": 2,
   "id": "c2f0ca0f-21b5-4b96-a63d-2588199ea7e8",
   "metadata": {},
   "outputs": [],
   "source": [
    "class A2(bp.neurons.HH):\n",
    "    def __init__(self, size, ENa=115., EK=-12., EL=10.6, C=1.0, gNa=120.,\n",
    "               gK=36, gL=0.3, V_th=0., method='exp_auto'):\n",
    "        super().__init__(size=size, method=method)\n",
    "        self.size = size\n",
    "\n",
    "        # parameters\n",
    "        self.ENa = ENa\n",
    "        self.EK = EK\n",
    "        self.EL = EL\n",
    "        self.C = C\n",
    "        self.gNa = gNa\n",
    "        self.gK = gK\n",
    "        self.gL = gL\n",
    "        self.V_th = V_th\n",
    "\n",
    "        self.input = bm.Variable(bm.ones(size) * 1)\n",
    "        self.t_last_spike = bm.Variable(bm.ones(size) * -1e7)\n",
    "\n",
    "    def dm(self, m, t, V):\n",
    "        alpha = 0.1 * (25-V) / (bm.exp(-0.1 * (V - 25)) - 1)\n",
    "        beta = 4 * bm.exp(-V / 18)\n",
    "        dmdt = alpha * (1 - m) - beta * m\n",
    "        return dmdt\n",
    "\n",
    "    def dn(self, n, t, V):\n",
    "        alpha = 0.01 * (10-V) / (bm.exp(0.1 * (10-V)) - 1)\n",
    "        beta = 0.125 * bm.exp(-V / 80)\n",
    "        dndt = alpha * (1 - n) - beta * n\n",
    "        return  dndt\n",
    "\n",
    "    def dh(self, h, t, V):\n",
    "        alpha = 0.07 * bm.exp(-V / 20)\n",
    "        beta = 1 / (bm.exp(0.1 * (-V + 30)) + 1)\n",
    "        dhdt = alpha * (1 - h) - beta * h\n",
    "        return dhdt\n",
    "\n",
    "    def dV(self, V, t, m, h, n, I):\n",
    "        INa = self.gNa * m ** 3 * h * (V - self.ENa)\n",
    "        IK = self.gK * n ** 4 * (V - self.EK)\n",
    "        IL = self.gL * (V - self.EL)\n",
    "        dVdt = (- INa - IK - IL + I) / self.C\n",
    "        return dVdt\n",
    "\n",
    "    @property\n",
    "    def derivative(self):\n",
    "        return JointEq(self.dV, self.dm, self.dh, self.dn)  # , self.dh, self.dn, self.ds, self.dc, self.dq)\n",
    "\n",
    "    def update(self, tdi):\n",
    "        # t = share.load('t')\n",
    "        # dt = share.load('dt')\n",
    "        # x = 1.2 if x is None else x\n",
    "        # print('x=', x )\n",
    "\n",
    "        V, m, h, n = self.integral(self.V.value, self.m.value, self.h.value, self.n.value, tdi.t, self.input, tdi.dt)\n",
    "        # V += self.sum_delta_inputs()\n",
    "        self.spike.value = bm.logical_and(self.V < self.V_th, V >= self.V_th)\n",
    "        # self.t_last_spike.value = bm.where(self.spike, tdi.t, self.t_last_spike)\n",
    "        self.V.value = V\n",
    "        self.h.value = h\n",
    "        self.n.value = n\n",
    "        self.input[:] = 0\n",
    "        return self.spike.value\n",
    "\n",
    "\n",
    "num = 100\n",
    "# dyn neurons\n",
    "neu =  A2(num) #A1(num) #bp.neurons.HH(num)#bp.dyn.HH(10) #HH(num) #bp.neurons.WangBuzsakiModel(num) #HH(num) #bp.dyn.WangBuzsakiHH(num) #bp.neurons.WangBuzsakiModel(num) #HH(num)\n",
    "# neu = bp.neurons.HH(100)"
   ]
  },
  {
   "cell_type": "code",
   "execution_count": 3,
   "id": "81086ced-af8f-449a-9425-0f4789956ba6",
   "metadata": {},
   "outputs": [],
   "source": [
    "#neu = bp.neurons.HH(100)"
   ]
  },
  {
   "cell_type": "code",
   "execution_count": 4,
   "id": "e243ff6d-cfc0-49bc-b73e-905c513533c0",
   "metadata": {},
   "outputs": [
    {
     "name": "stdout",
     "output_type": "stream",
     "text": [
      "0.0 1.0 0.012\n"
     ]
    }
   ],
   "source": [
    "# print(neu.V.value,neu.m.value, neu.h.value, neu.n.value)\n",
    "neu.V[:] = neu.V[:]#. + bm.random.normal(size=num) \n",
    "# neu.V[:] = -70. + bm.random.normal(size=num) \n",
    "alpha_m = 0.1 * (25-neu.V) / (bm.exprel(-0.1 * (neu.V - 25)) - 1)\n",
    "#1. / bm.exprel(-(neu.V + 40) / 10) #0.1 * (25-neu.V[:]) / (bm.exp(-0.1 * (neu.V[:] - 25)) - 1)\n",
    "beta_m = 4 * bm.exp(-neu.V[:] / 18)\n",
    "#4.0 * bm.exp(-(neu.V + 65) / 18) #4 * bm.exp(-neu.V[:] / 18)\n",
    "neu.m[:] = alpha_m/ (alpha_m + beta_m)\n",
    "alpha_h = 0.07 * bm.exp(-neu.V / 20)\n",
    "#0.07 * bm.exp(-(neu.V + 65) / 20.) # 0.07 * bm.exp(-neu.V / 20)\n",
    "beta_h = 1 / (bm.exp(0.1 * (-neu.V + 30)) + 1) #\n",
    "#1 / (1 + bm.exp(-(neu.V + 35) / 10)) #1 / (bm.exp(0.1 * (-neu.V + 30)) + 1)\n",
    "neu.h[:] = alpha_h/ (alpha_h + beta_h)\n",
    "alpha_n = 0.01 * (10-neu.V) / (bm.exprel(0.1 * (10-neu.V)) - 1) #0.1 / bm.exprel(-(V + 55) / 10) #\n",
    "beta_n = 0.125 * bm.exp(-neu.V / 80) #0.125 * bm.exp(-(V + 65) / 80) #\n",
    "neu.n[:] = alpha_n/ (alpha_n + beta_n)\n",
    "print(round(bm.mean(neu.m),3), round(bm.mean(neu.h),3),round(bm.mean(neu.n),3))"
   ]
  },
  {
   "cell_type": "code",
   "execution_count": 5,
   "id": "529c34c9-f382-437c-916e-76e2622b1500",
   "metadata": {},
   "outputs": [
    {
     "name": "stderr",
     "output_type": "stream",
     "text": [
      "/Users/shubhangi_goyal/opt/miniconda3/lib/python3.9/site-packages/brainpy/_src/deprecations.py:89: DeprecationWarning: brainpy.SynConn is deprecated. Use brainpy.dyn.SynConn instead.\n",
      "  _deprecate(message)\n"
     ]
    }
   ],
   "source": [
    "class BaseAMPASyn(bp.SynConn):\n",
    "    def __init__(self, pre, post, conn, delay=0, g_max=0.1/100, E=20, alpha=0.98,\n",
    "               beta=0.18, \n",
    "               T=1, T_duration=1, method='exp_auto'):\n",
    "        super(BaseAMPASyn, self).__init__(pre=pre, post=post, conn=conn)\n",
    "\n",
    "        # check whether the pre group has the needed attribute: \"spike\"\n",
    "        self.check_pre_attrs('spike')\n",
    "\n",
    "        # check whether the post group has the needed attribute: \"input\" and \"V\"\n",
    "        self.check_post_attrs('input', 'V')\n",
    "\n",
    "        # parameters\n",
    "        self.delay = delay\n",
    "        self.g_max = g_max\n",
    "        self.E = E\n",
    "        self.alpha = alpha\n",
    "        self.beta = beta\n",
    "        self.T = T\n",
    "        self.T_duration = T_duration\n",
    "\n",
    "        # use \"LengthDelay\" to store the spikes of the pre-synaptic neuron group\n",
    "        self.delay_step = int(delay/bm.get_dt())\n",
    "        self.pre_spike = bm.LengthDelay(pre.spike, self.delay_step)\n",
    "\n",
    "        # store the arrival time of the pre-synaptic spikes\n",
    "        self.spike_arrival_time = bm.Variable(bm.ones(self.pre.num) * -1e7)\n",
    "\n",
    "        # integral function\n",
    "        self.integral = bp.odeint(self.derivative, method=method)\n",
    "\n",
    "    def derivative(self, g, t, TT):\n",
    "        #dg = self.alpha * TT * (1 - g) - self.beta * g\n",
    "        dg = self.alpha * TT * (1 - g) - self.beta * g\n",
    "        return dg\n",
    "\n",
    "class AMPAAll2All(BaseAMPASyn):\n",
    "    def __init__(self, *args, **kwargs):\n",
    "        super(AMPAAll2All, self).__init__(*args, **kwargs)\n",
    "\n",
    "        self.conn_mat = self.conn.require('conn_mat').astype(float)\n",
    "\n",
    "        # synapse gating variable\n",
    "        # -------\n",
    "        # The synapse variable has the shape of the post-synaptic group\n",
    "        self.g = bm.Variable(bm.zeros((self.pre.num, self.post.num)))\n",
    "        # self.g = bm.Variable(bm.zeros( self.post.num))\n",
    "\n",
    "    def update(self, tdi, x=None):\n",
    "        _t, _dt = tdi.t, tdi.dt\n",
    "        delayed_spike = self.pre_spike(self.delay_step)\n",
    "        self.pre_spike.update(self.pre.spike)\n",
    "        self.spike_arrival_time.value = bm.where(delayed_spike, _t, self.spike_arrival_time)\n",
    "        TT = ((_t - self.spike_arrival_time) < self.T_duration) * self.T\n",
    "              #*1/(1+bm.exp(-(self.pre.V-20)/2)))\n",
    "        # TT = 1/(1+bm.exp(-(self.pre.V+3)/8))\n",
    "        TT = TT.reshape((-1, 1))  # NOTE: here is the difference\n",
    "        # print('shape of TT=', TT.shape)\n",
    "        # TT = TT.reshape((-1, 1))*self.g_max  # NOTE: here is the difference\n",
    "        # TT2 =  self.g_max @ TT.reshape((-1, 1))\n",
    "        # # TT = bm.dot(TT,self.g_max )\n",
    "        # print('shape of TT after =', TT2, TT[:10])\n",
    "        self.g.value = self.integral(self.g, _t, TT, dt=_dt)\n",
    "        # print('g ki value=', self.g.value)\n",
    "        # g_post =  bm.dot(self.g_max, self.g )\n",
    "        # print('g_post= ', g_post)\n",
    "        g_post = self.g.sum(axis=0) # NOTE: here is also different\n",
    "\n",
    "         # update synapse states according to the pre spikes\n",
    "        # post_sps = bm.dot(delayed_spike.astype(float), self.g_max)\n",
    "        # print('a quick check=', self.g)\n",
    "        # print('*'*10)\n",
    "        #self.g += post_sps\n",
    "        # get the post-synaptic current\n",
    "        # self.post.input += #self.g_max,g_post * (self.E - self.post.V)/99 #20\n",
    "        self.post.input += bm.dot(self.g_max,g_post) * (self.E - self.post.V)/99 #20\n",
    "        # self.post.input += g_post * (self.E - self.post.V)/99 #20\n",
    "        # self.post.input += (self.g_max * g_post) * (self.E - self.post.V)/100\n",
    "\n",
    "        # self.post.input += self.g_max * g_post * (self.E - self.post.V)\n",
    "        print('output =', self.post.input)\n",
    "        \n",
    "    "
   ]
  },
  {
   "cell_type": "code",
   "execution_count": 6,
   "id": "65cbdff7-faf1-4e85-95d7-41e915cb869a",
   "metadata": {},
   "outputs": [
    {
     "name": "stdout",
     "output_type": "stream",
     "text": [
      "====================================================================================================\n"
     ]
    },
    {
     "data": {
      "application/vnd.jupyter.widget-view+json": {
       "model_id": "35a3b28d9d8a465e9d635a7d6e11aeef",
       "version_major": 2,
       "version_minor": 0
      },
      "text/plain": [
       "  0%|          | 0/12500 [00:00<?, ?it/s]"
      ]
     },
     "metadata": {},
     "output_type": "display_data"
    },
    {
     "name": "stdout",
     "output_type": "stream",
     "text": [
      "output = Variable(value=Traced<ShapedArray(float32[100])>with<DynamicJaxprTrace(level=2/0)>, dtype=float32)\n",
      "output = Variable(value=Traced<ShapedArray(float32[100])>with<DynamicJaxprTrace(level=1/0)>, dtype=float32)\n"
     ]
    },
    {
     "name": "stderr",
     "output_type": "stream",
     "text": [
      "/Users/shubhangi_goyal/opt/miniconda3/lib/python3.9/site-packages/brainpy/_src/dynsys.py:294: UserWarning: \n",
      "From brainpy>=2.4.3, update() function no longer needs to receive a global shared argument.\n",
      "\n",
      "Instead of using:\n",
      "\n",
      "  def update(self, tdi, *args, **kwagrs):\n",
      "     t = tdi['t']\n",
      "     ...\n",
      "\n",
      "Please use:\n",
      "\n",
      "  def update(self, *args, **kwagrs):\n",
      "     t = bp.share['t']\n",
      "     ...\n",
      "\n",
      "  warnings.warn(_update_deprecate_msg, UserWarning)\n"
     ]
    },
    {
     "data": {
      "image/png": "[encoded data removed]",
      "text/plain": [
       "<Figure size 800x600 with 2 Axes>"
      ]
     },
     "metadata": {},
     "output_type": "display_data"
    }
   ],
   "source": [
    "    \n",
    "syn = AMPAAll2All(pre=neu, post=neu, conn=bp.connect.All2All(include_self=False)) #include_self=False)) #,stop_spike_gradient=False)\n",
    "# syn = AMPAAll2All(pre=neu, post=neu, conn= bp.connect.FixedProb(prob=0.2, include_self=True))\n",
    "# syn = bp.dyn.GABAa.desc(pre=neu, post=neu, prob=1) #conn=bp.connect.All2All(include_self=False)) #,stop_spike_gradient=False)\n",
    "\n",
    "shape = (100,100)\n",
    "syn.g_max = bp.init.Normal(mean=0.1, scale=0.02)(shape) #.value\n",
    "print('='*100)\n",
    "# neu = HH(10)\n",
    "# V, spike\n",
    "\n",
    "# net = bp.Network(pre=neu, post=neu ,syn=syn)\n",
    "net = bp.Network(neu=neu, syn=syn)\n",
    "# runner = bp.DSRunner(net, monitors=['pre.spike', 'pre.V','post.spike', 'post.V'], inputs=[('pre.input',1.2,'fix', '+'), ('post.input',120)]) #,'fix', '=']) # bm.random.normal(1,0.02,num)])\n",
    "# runner = bp.DSRunner(neu, monitors=['V','spike'], inputs=['input',1.2]) #,'fix','+']) # bm.random.normal(1,0.02,num)])\n",
    "runner = bp.DSRunner(net, monitors=['neu.spike', 'neu.V'], inputs=['neu.input',bm.random.uniform(9,10,100)]) #\n",
    "runner.run(duration=500.) #,inputs=inputs )\n",
    "\n",
    "\n",
    "# a = bp.DynamicalSystem() #bp.Dynamic\n",
    "# #a.input\n",
    "fig, gs = bp.visualize.get_figure(2, 1, 3, 8)\n",
    "\n",
    "fig.add_subplot(gs[0, 0])\n",
    "bp.visualize.line_plot(runner.mon.ts, runner.mon['neu.V'], ylabel='Membrane potential (N0)')\n",
    "bp.visualize.line_plot(runner.mon.ts, runner.mon['neu.V'][:,10])\n",
    "\n",
    "# bp.visualize.line_plot(runner.mon.ts, runner.mon.V[:,0], ylabel='Membrane potential (N0)')\n",
    "# bp.visualize.line_plot(runner.mon.ts, runner.mon.V[:,1])\n",
    "\n",
    "fig.add_subplot(gs[1, 0])\n",
    "bp.visualize.raster_plot(runner.mon.ts, runner.mon['neu.spike'], show=True)\n",
    "plt.show()\n",
    "\n",
    "# fig, gs = bp.visualize.get_figure(2, 1, 3, 8)\n",
    "#\n",
    "# fig.add_subplot(gs[0, 0])\n",
    "# bp.visualize.line_plot(runner.mon.ts, runner.mon['V'][:,0], ylabel='Membrane potential (N0)')\n",
    "# bp.visualize.line_plot(runner.mon.ts, runner.mon['V'][:,1])\n",
    "# bp.visualize.line_plot(runner.mon.ts, runner.mon['V'][:,10])\n",
    "#\n",
    "# # bp.visualize.line_plot(runner.mon.ts, runner.mon.V[:,0], ylabel='Membrane potential (N0)')\n",
    "# # bp.visualize.line_plot(runner.mon.ts, runner.mon.V[:,1])\n",
    "#\n",
    "# fig.add_subplot(gs[1, 0])\n",
    "# # bp.visualize.raster_plot(runner.mon.ts, runner.mon['pre.spike'], show=True)\n",
    "# bp.visualize.raster_plot(runner.mon.ts, runner.mon['spike'], show=True)\n",
    "# plt.show()"
   ]
  },
  {
   "cell_type": "code",
   "execution_count": null,
   "id": "8f9cc34c-e183-497c-bceb-f68665203e4a",
   "metadata": {},
   "outputs": [],
   "source": []
  },
  {
   "cell_type": "code",
   "execution_count": null,
   "id": "fef16157-41cc-4a19-8537-612fc4f6348c",
   "metadata": {},
   "outputs": [],
   "source": []
  }
 ],
 "metadata": {
  "kernelspec": {
   "display_name": "Python 3 (ipykernel)",
   "language": "python",
   "name": "python3"
  },
  "language_info": {
   "codemirror_mode": {
    "name": "ipython",
    "version": 3
   },
   "file_extension": ".py",
   "mimetype": "text/x-python",
   "name": "python",
   "nbconvert_exporter": "python",
   "pygments_lexer": "ipython3",
   "version": "3.9.15"
  }
 },
 "nbformat": 4,
 "nbformat_minor": 5
}
