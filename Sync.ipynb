{
 "cells": [
  {
   "cell_type": "code",
   "execution_count": 103,
   "metadata": {},
   "outputs": [],
   "source": [
    "import brainpy as bp\n",
    "import brainpy.math as bm\n",
    "import matplotlib.pyplot as plt\n",
    "from brainpy._src.integrators import JointEq\n",
    "from brainpy._src.context import share\n",
    "bp.math.set_dt(0.05)"
   ]
  },
  {
   "cell_type": "code",
   "execution_count": 49,
   "metadata": {},
   "outputs": [],
   "source": [
    "class BaseAMPASyn(bp.dyn.SynConn):\n",
    "    def __init__(self, pre, post, conn, delay=0, g_max=0.001, E=20, alpha=5,\n",
    "               beta=1, #0.18, \n",
    "               T=1, T_duration=1, method='exp_auto'):\n",
    "        super(BaseAMPASyn, self).__init__(pre=pre, post=post, conn=conn)\n",
    "\n",
    "        # check whether the pre group has the needed attribute: \"spike\"\n",
    "        self.check_pre_attrs('spike')\n",
    "\n",
    "        # check whether the post group has the needed attribute: \"input\" and \"V\"\n",
    "        self.check_post_attrs('input', 'V')\n",
    "\n",
    "        # parameters\n",
    "        self.delay = delay\n",
    "        self.g_max = g_max\n",
    "        self.E = E\n",
    "        self.alpha = alpha\n",
    "        self.beta = beta\n",
    "        self.T = T\n",
    "        self.T_duration = T_duration\n",
    "\n",
    "        # use \"LengthDelay\" to store the spikes of the pre-synaptic neuron group\n",
    "        self.delay_step = int(delay/bm.get_dt())\n",
    "        self.pre_spike = bm.LengthDelay(pre.spike, self.delay_step)\n",
    "\n",
    "        # store the arrival time of the pre-synaptic spikes\n",
    "        self.spike_arrival_time = bm.Variable(bm.ones(self.pre.num) * -1e7)\n",
    "\n",
    "        # integral function\n",
    "        self.integral = bp.odeint(self.derivative, method=method)\n",
    "\n",
    "    def derivative(self, g, t, TT):\n",
    "        dg = self.alpha * TT * (1 - g) - self.beta * g\n",
    "       \n",
    "        # dg = -g + ((1-g)*5)/(1+bm.exp(-(self.pre.V+3)/8))  # according to paper \n",
    "        return dg\n",
    "    \n",
    "   "
   ]
  },
  {
   "cell_type": "code",
   "execution_count": null,
   "metadata": {},
   "outputs": [],
   "source": [
    "class AMPAAll2All(BaseAMPASyn):\n",
    "  def __init__(self, *args, **kwargs):\n",
    "    super(AMPAAll2All, self).__init__(*args, **kwargs)\n",
    "    \n",
    "     # connection matrix\n",
    "    self.conn_mat = self.conn.require('conn_mat').astype(float)\n",
    "\n",
    "    # synapse gating variable\n",
    "    # -------\n",
    "    # The synapse variable has the shape of the post-synaptic group\n",
    "    self.g = bm.Variable(bm.zeros((self.pre.num, self.post.num)))\n",
    "    \n",
    "\n",
    "  def update(self, x=None):\n",
    "    _t, _dt = bp.share['t'], bp.share['dt']\n",
    "    delayed_spike = self.pre_spike(self.delay_step)\n",
    "    self.pre_spike.update(self.pre.spike)\n",
    "    self.spike_arrival_time.value = bm.where(delayed_spike, _t, self.spike_arrival_time)\n",
    "    # TT = ((_t - self.spike_arrival_time) < self.T_duration) * self.T\n",
    "          #*1/(1+bm.exp(-(self.pre.V-20)/2)))\n",
    "    # TT = 1/(1+bm.exp(-(self.pre.V-20)/2))\n",
    "    # TT = TT.reshape((-1, 1))  # NOTE: here is the difference\n",
    "    TT = 1 / (1 + bm.exp(-(self.pre.V + 3) / 8))\n",
    "    TT = TT.reshape((-1, 1)) #* self.conn_mat\n",
    "    self.g.value = self.integral(self.g, _t, TT, dt=_dt)\n",
    "    g_post = self.g.sum(axis=0) # NOTE: here is also different\n",
    "\n",
    "    self.post.input += - bm.dot(self.g_max , g_post) * (self.E - self.post.V) +\n",
    "    print('output =', self.post.input)\n",
    "    "
   ]
  },
  {
   "cell_type": "code",
   "execution_count": 50,
   "metadata": {},
   "outputs": [
    {
     "ename": "NameError",
     "evalue": "name 'A2' is not defined",
     "output_type": "error",
     "traceback": [
      "\u001b[0;31m---------------------------------------------------------------------------\u001b[0m",
      "\u001b[0;31mNameError\u001b[0m                                 Traceback (most recent call last)",
      "Cell \u001b[0;32mIn[50], line 2\u001b[0m\n\u001b[1;32m      1\u001b[0m num \u001b[38;5;241m=\u001b[39m \u001b[38;5;241m100\u001b[39m\n\u001b[0;32m----> 2\u001b[0m neu \u001b[38;5;241m=\u001b[39m \u001b[43mA2\u001b[49m(num)\n\u001b[1;32m      3\u001b[0m neu\u001b[38;5;241m.\u001b[39mV[:] \u001b[38;5;241m=\u001b[39m  bm\u001b[38;5;241m.\u001b[39mrandom\u001b[38;5;241m.\u001b[39mnormal(size\u001b[38;5;241m=\u001b[39mnum) \u001b[38;5;241m*\u001b[39m \u001b[38;5;241m20\u001b[39m\n\u001b[1;32m      5\u001b[0m \u001b[38;5;66;03m# Random network connectivity\u001b[39;00m\n",
      "\u001b[0;31mNameError\u001b[0m: name 'A2' is not defined"
     ]
    }
   ],
   "source": [
    "num = 100\n",
    "neu = A2(num)\n",
    "neu.V[:] =  bm.random.normal(size=num) * 20\n",
    "\n",
    "# Random network connectivity\n",
    "conn = bp.connect.FixedProb(prob=0.6, include_self=True) # 10% connection probability, adjust as needed\n",
    "syn = bp.synapses.AMPA(neu, neu, conn, #bp.connect.All2All(include_self=True),\n",
    "                 output=bp.synouts.COBA(E=20.),\n",
    "                 alpha=5, beta=1, g_max=6e-3)\n",
    "#bp.synapses.GABAa(pre=neu, post=neu, conn=bp.connect.All2All(include_self=False),stop_spike_gradient=False)\n",
    "#AMPAAll2All(pre=neu, post=neu, conn=conn)\n",
    "\n",
    "shape = (100,100)\n",
    "syn.g_max = bp.init.Normal(mean=0.1, scale=0.02)(shape) /10\n",
    "print('weights are =', syn.g_max.shape)\n",
    "\n",
    "# Random input currents\n",
    "input_currents = 1# bm.random.uniform(9.0, 10.0, num)\n",
    "\n",
    "net = bp.Network(neu=neu, syn=syn)\n",
    "runner = bp.DSRunner(net, monitors=['neu.spike', 'neu.V'], inputs=['neu.input', input_currents])"
   ]
  },
  {
   "cell_type": "code",
   "execution_count": null,
   "metadata": {},
   "outputs": [],
   "source": [
    "runner.run(duration=1500.)  # Run for 500 seconds (assuming dt=0.1ms)\n",
    "\n",
    "fig, gs = bp.visualize.get_figure(2, 1, 3, 15)\n",
    "\n",
    "fig.add_subplot(gs[0, 0])\n",
    "bp.visualize.line_plot(runner.mon.ts, runner.mon['neu.V'], ylabel='Membrane potential (N0)')\n",
    "bp.visualize.line_plot(runner.mon.ts, runner.mon['neu.V'])\n",
    "\n",
    "fig.add_subplot(gs[1, 0])\n",
    "bp.visualize.raster_plot(runner.mon.ts, runner.mon['neu.spike'], show=True)\n",
    "plt.show()"
   ]
  },
  {
   "cell_type": "code",
   "execution_count": null,
   "metadata": {},
   "outputs": [],
   "source": [
    "import numpy as np"
   ]
  },
  {
   "cell_type": "code",
   "execution_count": null,
   "metadata": {},
   "outputs": [],
   "source": [
    "class EINet(bp.DynSysGroup):\n",
    "  def __init__(self):\n",
    "    super().__init__()\n",
    "    self.N = bp.neurons.HH(100) #bp.dyn.LifRef(100, V_rest=-60., V_th=-50., V_reset=-60., tau=20., tau_ref=5.,\n",
    "                          # V_initializer=bp.init.Normal(-55., 2.))\n",
    "    self.delay = bp.VarDelay(self.N.spike, entries={'I': None})\n",
    "    # self.E = bp.dyn.ProjAlignPreMg2(comm=bp.dnn.EventJitFPHomoLinear(80, 100, prob=1, weight=0.01),\n",
    "    #                                  syn=bp.dyn.GABAa.desc(80, alpha=0.53, beta=0.18, T=1.0, T_dur=1.0),\n",
    "    #                                  out=bp.dyn.COBA.desc(E=20.),\n",
    "    #                                  post=self.N)\n",
    "    # self.I = bp.dyn.ProjAlignPreMg2(comm=bp.dnn.EventJitFPHomoLinear(20, 100, prob=1, weight=0.01),\n",
    "    #                                  syn=bp.dyn.GABAa.desc(20, alpha=0.53, beta=0.18, T=1.0, T_dur=1.0),\n",
    "    #                                  out=bp.dyn.COBA.desc(E=-75.),\n",
    "    #                                  post=self.N)\n",
    "    self.E = bp.synapses.Exponential(pre=E, post=I, conn=bp.conn.FixedProb(prob), tau=tau_Es, g_max=JIE)\n",
    "\n",
    "  def update(self, input):\n",
    "    spk = self.delay.at('I')\n",
    "    self.E(spk[:80])\n",
    "    self.I(spk[80:])\n",
    "    self.delay(self.N(input))\n",
    "    return self.N.spike.value\n",
    " \n",
    "  def run(self, ids, inputs):  # the most import function!!!\n",
    "    for i, inp in zip(ids, inputs):\n",
    "      bp.share.save(i=i, t=bm.get_dt() * i)\n",
    "      self.update(inp)\n",
    "    return self.N.spike.value\n"
   ]
  },
  {
   "cell_type": "code",
   "execution_count": null,
   "metadata": {},
   "outputs": [],
   "source": [
    "n_step_per_monitor = 10"
   ]
  },
  {
   "cell_type": "code",
   "execution_count": null,
   "metadata": {},
   "outputs": [],
   "source": [
    "indices = np.arange(30000).reshape(-1, n_step_per_monitor)\n",
    "inputs = np.ones(indices.shape) * 20."
   ]
  },
  {
   "cell_type": "code",
   "execution_count": null,
   "metadata": {},
   "outputs": [],
   "source": [
    "model = EINet()\n",
    "spks = bm.for_loop(model.run, (indices, inputs), progress_bar=True)\n",
    "spks.shape"
   ]
  },
  {
   "cell_type": "code",
   "execution_count": null,
   "metadata": {},
   "outputs": [],
   "source": [
    "bp.visualize.raster_plot(indices[:, 0], spks, show=True)"
   ]
  },
  {
   "cell_type": "code",
   "execution_count": 52,
   "metadata": {},
   "outputs": [],
   "source": [
    "import brainpy as bp\n",
    "import brainpy.math as bm\n",
    "import numpy as np\n",
    "\n",
    "bp.math.set_platform('cpu')\n"
   ]
  },
  {
   "cell_type": "code",
   "execution_count": 53,
   "metadata": {},
   "outputs": [],
   "source": [
    "num_exc = 160\n",
    "num_inh = 40\n",
    "Cm = 1  # Membrane Capacitance [pF]\n",
    "\n",
    "gl = 0.03  # Leak Conductance   [nS]\n",
    "g_Na = 120. \n",
    "g_K = 36. #* 1000  # K Conductance      [nS]\n",
    "El = -54.387  # Resting Potential [mV]\n",
    "ENa = 50.  # reversal potential (Sodium) [mV]\n",
    "EK = -77.  # reversal potential (Potassium) [mV]\n",
    "VT = -63.\n",
    "V_th = 20.\n",
    "\n",
    "# Time constants\n",
    "taue = 5.  # Excitatory synaptic time constant [ms]\n",
    "taui = 10.  # Inhibitory synaptic time constant [ms]\n",
    "\n",
    "# Reversal potentials\n",
    "Ee = 20.  # Excitatory reversal potential (mV)\n",
    "Ei = -75.  # Inhibitory reversal potential (Potassium) [mV]\n",
    "\n",
    "# excitatory synaptic weight\n",
    "we = 0.6  # excitatory synaptic conductance [nS]\n",
    "\n",
    "# inhibitory synaptic weight\n",
    "wi = 6.7  # inhibitory synaptic conductance [nS]"
   ]
  },
  {
   "cell_type": "code",
   "execution_count": 54,
   "metadata": {},
   "outputs": [],
   "source": [
    "class HH(bp.dyn.NeuDyn):\n",
    "    def __init__(self, size, method='exp_auto'):\n",
    "        super(HH, self).__init__(size)\n",
    "\n",
    "        # variables\n",
    "        self.V = bm.Variable(El + (bm.random.randn(self.num) * 5 - 5))\n",
    "        self.m = bm.Variable(bm.zeros(self.num))\n",
    "        self.n = bm.Variable(bm.zeros(self.num))\n",
    "        self.h = bm.Variable(bm.zeros(self.num))\n",
    "        self.spike = bm.Variable(bm.zeros(self.num, dtype=bool))\n",
    "        self.input = bm.Variable(bm.zeros(size))\n",
    "\n",
    "        def dV(V, t, m, h, n, Isyn):\n",
    "            INa = g_Na * m ** 3 * h * (V - ENa)\n",
    "            IK = g_K * n ** 4 * (V - EK)\n",
    "            IL = gl * (V - El)\n",
    "            dVdt = (- INa - IK - IL + Isyn) / Cm\n",
    "            return dVdt\n",
    "\n",
    "        def dm(m, t, V):\n",
    "            alpha =  (0.1*V+4) / (-bm.exp(-4 - 0.1*V)+1) #0.1 * (25-V) / (bm.exp(-0.1 * (V - 25)) - 1)\n",
    "            beta = 4.0*bm.exp(-V-65/18.0) # 4 * bm.exp(-V / 18)\n",
    "            dmdt = alpha * (1 - m) - beta * m\n",
    "            return dmdt\n",
    "\n",
    "        def dn(n, t, V):\n",
    "            alpha = 0.01*(55.0+V)/ (-bm.exp(-5.5-0.1*V )+1) #0.01 * (10-V) / (bm.exp(0.1 * (10-V)) - 1)\n",
    "            beta = 0.125*bm.exp(-V-65/80.0) #0.125 * bm.exp(-V / 80)\n",
    "            dndt = alpha * (1 - n) - beta * n\n",
    "            return  dndt\n",
    "\n",
    "        def dh(h, t, V):\n",
    "            alpha = 0.07*bm.exp(-V-65/20.0) #0.07 * bm.exp(-V / 20)\n",
    "            beta = 1/(1+bm.exp(-3.5-0.1*V)) #1 / (bm.exp(0.1 * (-V + 30)) + 1)\n",
    "            dhdt = alpha * (1 - h) - beta * h\n",
    "            return dhdt\n",
    "        \n",
    "        \n",
    "        \n",
    "\n",
    "        # functions\n",
    "        self.integral = bp.odeint(bp.JointEq([dV, dm, dh, dn]), method='exp_auto')\n",
    "\n",
    "    def update(self):\n",
    "        tdi = bp.share.get_shargs()\n",
    "        V, m, h, n = self.integral(self.V, self.m, self.h, self.n, tdi.t, Isyn=self.input, dt=tdi.dt)\n",
    "        self.spike.value = bm.logical_and(self.V < V_th, V >= V_th)\n",
    "        self.m.value = m\n",
    "        self.h.value = h\n",
    "        self.n.value = n\n",
    "        self.V.value = V\n",
    "        self.input[:] = 0."
   ]
  },
  {
   "cell_type": "code",
   "execution_count": 191,
   "metadata": {},
   "outputs": [],
   "source": [
    "import brainpy as bp\n",
    "import brainpy.math as bm\n",
    "import unittest\n",
    "\n",
    "show = False\n",
    "\n",
    "\n",
    "class HH(bp.dyn.CondNeuGroup):\n",
    "    def __init__(self, size,method='exp_auto'):\n",
    "        super(HH, self).__init__(size)\n",
    "        self.INa = bp.channels.INa_HH1952(size, )\n",
    "        self.IK = bp.channels.IK_HH1952(size, )\n",
    "        self.IL = bp.channels.IL(size, E=-54.387, g_max=0.3)\n",
    "\n",
    "        \n",
    "class HH2(bp.dyn.CondNeuGroupLTC): #(bp.dyn.HHLTC):\n",
    "    def __init__(self, size):\n",
    "        super(HH2, self).__init__(size)\n",
    "        self.INa = bp.channels.INa_HH1952(size,  g_max=120.) ##bp.channels.INa_TM1991(size, g_max=100., V_sh=-63.)\n",
    "        self.IK =  bp.channels.IK_HH1952(size, E = -77., g_max= 36.)#bp.channels.IK_TM1991(size, g_max=30., V_sh=-63.)\n",
    "        self.IL = bp.channels.IL(size, E=-54.4, g_max=0.03)\n",
    "        \n",
    "\n",
    "\n",
    "\n",
    "class HHv2(bp.dyn.NeuDyn):\n",
    "    def __init__(self, size, ENa=50., gNa=120., EK=-77., gK=36., EL=-54.387, gL=0.03, V_th=20., C=1.0):\n",
    "        super().__init__(size=size)\n",
    "\n",
    "        # initialize parameters\n",
    "        self.ENa = ENa\n",
    "        self.EK = EK\n",
    "        self.EL = EL\n",
    "        self.gNa = gNa\n",
    "        self.gK = gK\n",
    "        self.gL = gL\n",
    "        self.C = C\n",
    "        self.V_th = V_th\n",
    "\n",
    "        # initialize variables\n",
    "        self.V = bm.Variable(bm.random.randn(self.num) - 70.)\n",
    "        self.m = bm.Variable(0.5 * bm.ones(self.num))\n",
    "        self.h = bm.Variable(0.6 * bm.ones(self.num))\n",
    "        self.n = bm.Variable(0.32 * bm.ones(self.num))\n",
    "        self.input = bm.Variable(bm.zeros(self.num))\n",
    "        self.spike = bm.Variable(bm.zeros(self.num, dtype=bool))\n",
    "        self.t_last_spike = bm.Variable(bm.ones(self.num) * -1e7)\n",
    "\n",
    "        # integral functions\n",
    "        self.int_V = bp.odeint(f=self.dV, method='exp_auto')\n",
    "        self.int_m = bp.odeint(f=self.dm, method='exp_auto')\n",
    "        self.int_h = bp.odeint(f=self.dh, method='exp_auto')\n",
    "        self.int_n = bp.odeint(f=self.dn, method='exp_auto')\n",
    "\n",
    "        def dV(self, V, t, m, h, n, Iext):\n",
    "            I_Na = (self.gNa * m ** 3.0 * h) * (V - self.ENa)\n",
    "            I_K = (self.gK * n ** 4.0) * (V - self.EK)\n",
    "            I_leak = self.gL * (V - self.EL)\n",
    "            dVdt = (- I_Na - I_K - I_leak +9 + Iext) / self.C\n",
    "            return dVdt\n",
    "\n",
    "        def dm(self, m, t, V):\n",
    "            alpha = 0.1 * (V + 40) / (1 - bm.exp(-(V + 40) / 10))\n",
    "            beta = 4.0 * bm.exp(-(V + 65) / 18)\n",
    "            dmdt = alpha * (1 - m) - beta * m\n",
    "            return dmdt\n",
    "\n",
    "        def dh(self, h, t, V):\n",
    "            alpha = 0.07 * bm.exp(-(V + 65) / 20.)\n",
    "            beta = 1 / (1 + bm.exp(-(V + 35) / 10))\n",
    "            dhdt = alpha * (1 - h) - beta * h\n",
    "            return dhdt\n",
    "\n",
    "        def dn(self, n, t, V):\n",
    "            alpha = 0.01 * (V + 55) / (1 - bm.exp(-(V + 55) / 10))\n",
    "            beta = 0.125 * bm.exp(-(V + 65) / 80)\n",
    "            dndt = alpha * (1 - n) - beta * n\n",
    "            return dndt\n",
    "\n",
    "    def update(self, x=None):\n",
    "        x = 0. if x is None else x\n",
    "        _t = bp.share.load('t')\n",
    "        _dt = bp.share.load('dt')\n",
    "\n",
    "        dV_grad = bm.vector_grad(self.dV, argnums=0)(self.V.value, _t, self.m.value, self.h.value, self.n.value, x)\n",
    "\n",
    "        # compute V, m, h, n\n",
    "        V = self.int_V(self.V, _t, self.m, self.h, self.n, x, dt=_dt)\n",
    "        self.h.value = self.int_h(self.h, _t, self.V, dt=_dt)\n",
    "        self.m.value = self.int_m(self.m, _t, self.V, dt=_dt)\n",
    "        self.n.value = self.int_n(self.n, _t, self.V, dt=_dt)\n",
    "\n",
    "        # update the spiking state and the last spiking time\n",
    "        self.spike.value = bm.logical_and(self.V < self.V_th, V >= self.V_th)\n",
    "        self.t_last_spike.value = bm.where(self.spike, _t, self.t_last_spike)\n",
    "\n",
    "        # update V\n",
    "        self.V.value = V\n",
    "\n",
    "        return dV_grad\n"
   ]
  },
  {
   "cell_type": "code",
   "execution_count": 167,
   "metadata": {},
   "outputs": [],
   "source": [
    "class BaseAMPASyn(bp.dyn.SynConn):\n",
    "    def __init__(self, pre, post, conn, delay=0, g_max=0.001, E=20, alpha=5,\n",
    "               beta=1, #0.18, \n",
    "               T=1, T_duration=1, method='exp_auto'):\n",
    "        super(BaseAMPASyn, self).__init__(pre=pre, post=post, conn=conn)\n",
    "\n",
    "        # check whether the pre group has the needed attribute: \"spike\"\n",
    "        self.check_pre_attrs('spike')\n",
    "\n",
    "        # check whether the post group has the needed attribute: \"input\" and \"V\"\n",
    "        self.check_post_attrs('input', 'V')\n",
    "\n",
    "        # parameters\n",
    "        self.delay = delay\n",
    "        self.g_max = g_max\n",
    "        self.E = E\n",
    "        self.alpha = alpha\n",
    "        self.beta = beta\n",
    "        self.T = T\n",
    "        self.T_duration = T_duration\n",
    "\n",
    "        # use \"LengthDelay\" to store the spikes of the pre-synaptic neuron group\n",
    "        self.delay_step = int(delay/bm.get_dt())\n",
    "        self.pre_spike = bm.LengthDelay(pre.spike, self.delay_step)\n",
    "\n",
    "        # store the arrival time of the pre-synaptic spikes\n",
    "        self.spike_arrival_time = bm.Variable(bm.ones(self.pre.num) * -1e7)\n",
    "\n",
    "        # integral function\n",
    "        self.integral = bp.odeint(self.derivative, method=method)\n",
    "\n",
    "    def derivative(self, g, t, TT):\n",
    "        dg = self.alpha * TT * (1 - g) - self.beta * g\n",
    "       \n",
    "        # dg = -g + ((1-g)*5)/(1+bm.exp(-(self.pre.V+3)/8))  # according to paper \n",
    "        return dg"
   ]
  },
  {
   "cell_type": "code",
   "execution_count": 168,
   "metadata": {},
   "outputs": [],
   "source": [
    "class GABAa(BaseAMPASyn):\n",
    "    def __init__(self, *args, **kwargs):\n",
    "        super(GABAa, self).__init__(*args, **kwargs)\n",
    "    \n",
    "         # connection matrix\n",
    "        self.conn_mat = self.conn.require('conn_mat').astype(float)\n",
    "\n",
    "        # synapse gating variable\n",
    "        # -------\n",
    "        # The synapse variable has the shape of the post-synaptic group\n",
    "        self.g = bm.Variable(bm.zeros((self.pre.num, self.post.num)))\n",
    "\n",
    "\n",
    "    def update(self, x=None):\n",
    "        _t, _dt = bp.share['t'], bp.share['dt']\n",
    "        delayed_spike = self.pre_spike(self.delay_step)\n",
    "        self.pre_spike.update(self.pre.spike)\n",
    "        self.spike_arrival_time.value = bm.where(delayed_spike, _t, self.spike_arrival_time)\n",
    "        TT = ((_t - self.spike_arrival_time) < self.T_duration) * self.T\n",
    "              #*1/(1+bm.exp(-(self.pre.V-20)/2)))\n",
    "        # TT = 1/(1+bm.exp(-(self.pre.V-20)/2))\n",
    "        # TT = TT.reshape((-1, 1))  # NOTE: here is the difference\n",
    "        # TT = 1 / (1 + bm.exp(-(self.pre.V + 3) / 8))\n",
    "        TT = TT.reshape((-1, 1)) #* self.conn_mat\n",
    "        self.g.value = self.integral(self.g, _t, TT, dt=_dt)\n",
    "        g_post = self.g.sum(axis=0) # NOTE: here is also different\n",
    "\n",
    "        self.post.input += - bm.dot(self.g_max , g_post) * (self.E - self.post.V) \n",
    "        # print('output =', self.post.input)\n"
   ]
  },
  {
   "cell_type": "code",
   "execution_count": 169,
   "metadata": {},
   "outputs": [],
   "source": [
    "class COBAHH(bp.Network):\n",
    "    def __init__(self, scale=1., method='exp_auto'):\n",
    "        num_exc = int(80 * scale)\n",
    "        num_inh = int(20 * scale)\n",
    "        E = HHv2(num_exc)\n",
    "        I = HHv2(num_inh)\n",
    "        # E2E = ExpCOBA(pre=E, post=E, conn=bp.conn.FixedProb(prob=0.02),\n",
    "        #               E=Ee, g_max=0.004 / scale, tau=taue, method=method)\n",
    "        # E2I = ExpCOBA(pre=E, post=I, conn=bp.conn.FixedProb(prob=0.02),\n",
    "        #               E=Ee, g_max=0.01 / scale, tau=taue, method=method)\n",
    "        # I2E = ExpCOBA(pre=I, post=E, conn=bp.conn.FixedProb(prob=0.02),\n",
    "        #               E=Ei, g_max=0.003 / scale, tau=taui, method=method)\n",
    "        # I2I = ExpCOBA(pre=I, post=I, conn=bp.conn.FixedProb(prob=0.02),\n",
    "        #               E=Ei, g_max=0.017 / scale, tau=taui, method=method)\n",
    "        E2E = GABAa(pre=E, post=E, conn=bp.conn.FixedProb(prob=0.02),\n",
    "                      E=Ee, g_max=0.01 / scale)\n",
    "        E2I = GABAa(pre=E, post=I, conn=bp.conn.FixedProb(prob=0.02),\n",
    "                      E=Ee, g_max=0.01 / scale)\n",
    "        I2E = GABAa(pre=I, post=E, conn=bp.conn.FixedProb(prob=0.02),\n",
    "                      E=Ei, g_max=0.01 / scale)\n",
    "        I2I = GABAa(pre=I, post=I, conn=bp.conn.FixedProb(prob=0.02),\n",
    "                      E=Ei, g_max=0.01 / scale)\n",
    "\n",
    "        super(COBAHH, self).__init__(E2E, E2I, I2I, I2E, E=E, I=I)"
   ]
  },
  {
   "cell_type": "code",
   "execution_count": 170,
   "metadata": {},
   "outputs": [
    {
     "ename": "AttributeError",
     "evalue": "'HHv2' object has no attribute 'dV'",
     "output_type": "error",
     "traceback": [
      "\u001b[0;31m---------------------------------------------------------------------------\u001b[0m",
      "\u001b[0;31mAttributeError\u001b[0m                            Traceback (most recent call last)",
      "Cell \u001b[0;32mIn[170], line 1\u001b[0m\n\u001b[0;32m----> 1\u001b[0m net \u001b[38;5;241m=\u001b[39m \u001b[43mCOBAHH\u001b[49m\u001b[43m(\u001b[49m\u001b[43m)\u001b[49m\n",
      "Cell \u001b[0;32mIn[169], line 5\u001b[0m, in \u001b[0;36mCOBAHH.__init__\u001b[0;34m(self, scale, method)\u001b[0m\n\u001b[1;32m      3\u001b[0m num_exc \u001b[38;5;241m=\u001b[39m \u001b[38;5;28mint\u001b[39m(\u001b[38;5;241m80\u001b[39m \u001b[38;5;241m*\u001b[39m scale)\n\u001b[1;32m      4\u001b[0m num_inh \u001b[38;5;241m=\u001b[39m \u001b[38;5;28mint\u001b[39m(\u001b[38;5;241m20\u001b[39m \u001b[38;5;241m*\u001b[39m scale)\n\u001b[0;32m----> 5\u001b[0m E \u001b[38;5;241m=\u001b[39m \u001b[43mHHv2\u001b[49m\u001b[43m(\u001b[49m\u001b[43mnum_exc\u001b[49m\u001b[43m)\u001b[49m\n\u001b[1;32m      6\u001b[0m I \u001b[38;5;241m=\u001b[39m HHv2(num_inh)\n\u001b[1;32m      7\u001b[0m \u001b[38;5;66;03m# E2E = ExpCOBA(pre=E, post=E, conn=bp.conn.FixedProb(prob=0.02),\u001b[39;00m\n\u001b[1;32m      8\u001b[0m \u001b[38;5;66;03m#               E=Ee, g_max=0.004 / scale, tau=taue, method=method)\u001b[39;00m\n\u001b[1;32m      9\u001b[0m \u001b[38;5;66;03m# E2I = ExpCOBA(pre=E, post=I, conn=bp.conn.FixedProb(prob=0.02),\u001b[39;00m\n\u001b[0;32m   (...)\u001b[0m\n\u001b[1;32m     13\u001b[0m \u001b[38;5;66;03m# I2I = ExpCOBA(pre=I, post=I, conn=bp.conn.FixedProb(prob=0.02),\u001b[39;00m\n\u001b[1;32m     14\u001b[0m \u001b[38;5;66;03m#               E=Ei, g_max=0.017 / scale, tau=taui, method=method)\u001b[39;00m\n",
      "Cell \u001b[0;32mIn[166], line 40\u001b[0m, in \u001b[0;36mHHv2.__init__\u001b[0;34m(self, size, ENa, gNa, EK, gK, EL, gL, V_th, C)\u001b[0m\n\u001b[1;32m     37\u001b[0m \u001b[38;5;28mself\u001b[39m\u001b[38;5;241m.\u001b[39mt_last_spike \u001b[38;5;241m=\u001b[39m bm\u001b[38;5;241m.\u001b[39mVariable(bm\u001b[38;5;241m.\u001b[39mones(\u001b[38;5;28mself\u001b[39m\u001b[38;5;241m.\u001b[39mnum) \u001b[38;5;241m*\u001b[39m \u001b[38;5;241m-\u001b[39m\u001b[38;5;241m1e7\u001b[39m)\n\u001b[1;32m     39\u001b[0m \u001b[38;5;66;03m# integral functions\u001b[39;00m\n\u001b[0;32m---> 40\u001b[0m \u001b[38;5;28mself\u001b[39m\u001b[38;5;241m.\u001b[39mint_V \u001b[38;5;241m=\u001b[39m bp\u001b[38;5;241m.\u001b[39modeint(f\u001b[38;5;241m=\u001b[39m\u001b[38;5;28;43mself\u001b[39;49m\u001b[38;5;241;43m.\u001b[39;49m\u001b[43mdV\u001b[49m, method\u001b[38;5;241m=\u001b[39m\u001b[38;5;124m'\u001b[39m\u001b[38;5;124mexp_auto\u001b[39m\u001b[38;5;124m'\u001b[39m)\n\u001b[1;32m     41\u001b[0m \u001b[38;5;28mself\u001b[39m\u001b[38;5;241m.\u001b[39mint_m \u001b[38;5;241m=\u001b[39m bp\u001b[38;5;241m.\u001b[39modeint(f\u001b[38;5;241m=\u001b[39m\u001b[38;5;28mself\u001b[39m\u001b[38;5;241m.\u001b[39mdm, method\u001b[38;5;241m=\u001b[39m\u001b[38;5;124m'\u001b[39m\u001b[38;5;124mexp_auto\u001b[39m\u001b[38;5;124m'\u001b[39m)\n\u001b[1;32m     42\u001b[0m \u001b[38;5;28mself\u001b[39m\u001b[38;5;241m.\u001b[39mint_h \u001b[38;5;241m=\u001b[39m bp\u001b[38;5;241m.\u001b[39modeint(f\u001b[38;5;241m=\u001b[39m\u001b[38;5;28mself\u001b[39m\u001b[38;5;241m.\u001b[39mdh, method\u001b[38;5;241m=\u001b[39m\u001b[38;5;124m'\u001b[39m\u001b[38;5;124mexp_auto\u001b[39m\u001b[38;5;124m'\u001b[39m)\n",
      "File \u001b[0;32m~/opt/miniconda3/lib/python3.9/site-packages/brainpy/_src/dynsys.py:356\u001b[0m, in \u001b[0;36mDynamicalSystem.__getattribute__\u001b[0;34m(self, item)\u001b[0m\n\u001b[1;32m    354\u001b[0m   \u001b[38;5;28;01mreturn\u001b[39;00m \u001b[38;5;28mself\u001b[39m\u001b[38;5;241m.\u001b[39m_compatible_update  \u001b[38;5;66;03m# update function compatible with previous ``update()`` function\u001b[39;00m\n\u001b[1;32m    355\u001b[0m \u001b[38;5;28;01melse\u001b[39;00m:\n\u001b[0;32m--> 356\u001b[0m   \u001b[38;5;28;01mreturn\u001b[39;00m \u001b[38;5;28;43msuper\u001b[39;49m\u001b[43m(\u001b[49m\u001b[43m)\u001b[49m\u001b[38;5;241;43m.\u001b[39;49m\u001b[38;5;21;43m__getattribute__\u001b[39;49m\u001b[43m(\u001b[49m\u001b[43mitem\u001b[49m\u001b[43m)\u001b[49m\n",
      "\u001b[0;31mAttributeError\u001b[0m: 'HHv2' object has no attribute 'dV'"
     ]
    }
   ],
   "source": [
    "net = COBAHH()"
   ]
  },
  {
   "cell_type": "code",
   "execution_count": 171,
   "metadata": {},
   "outputs": [
    {
     "data": {
      "application/vnd.jupyter.widget-view+json": {
       "model_id": "6c10fcca1f3641d7a2d9f0885de578e2",
       "version_major": 2,
       "version_minor": 0
      },
      "text/plain": [
       "  0%|          | 0/8000 [00:00<?, ?it/s]"
      ]
     },
     "metadata": {},
     "output_type": "display_data"
    }
   ],
   "source": [
    "runner = bp.DSRunner(net, monitors=['E.spike'])\n",
    "t = runner.run(400.)"
   ]
  },
  {
   "cell_type": "code",
   "execution_count": 172,
   "metadata": {},
   "outputs": [
    {
     "data": {
      "text/plain": [
       "(Array(value=Array([ 206,  506,  806, 1106, 1405, 1705, 2005, 2305, 2605, 2905, 3204,\n",
       "                    3504, 3804, 4104, 4404, 4704, 5004, 5303, 5603, 5903, 6203, 6503,\n",
       "                    6803, 7103, 7402, 7702]),\n",
       "       dtype=int32),)"
      ]
     },
     "execution_count": 172,
     "metadata": {},
     "output_type": "execute_result"
    }
   ],
   "source": [
    "bm.where(runner.mon['E.spike'][:,9]==True)"
   ]
  },
  {
   "cell_type": "code",
   "execution_count": 164,
   "metadata": {},
   "outputs": [
    {
     "data": {
      "image/png": "[encoded data removed]",
      "text/plain": [
       "<Figure size 640x480 with 1 Axes>"
      ]
     },
     "metadata": {},
     "output_type": "display_data"
    }
   ],
   "source": [
    "bp.visualize.raster_plot(runner.mon.ts, runner.mon['E.spike'], show=True)\n"
   ]
  },
  {
   "cell_type": "code",
   "execution_count": 165,
   "metadata": {},
   "outputs": [],
   "source": [
    "import numpy as np\n",
    "num_exc = 3200\n",
    "num_inh = 800\n",
    "Cm = 200  # Membrane Capacitance [pF]\n",
    "\n",
    "gl = 10.  # Leak Conductance   [nS]\n",
    "g_Na = 20. * 1000\n",
    "g_Kd = 6. * 1000  # K Conductance      [nS]\n",
    "El = -60.  # Resting Potential [mV]\n",
    "ENa = 50.  # reversal potential (Sodium) [mV]\n",
    "EK = -90.  # reversal potential (Potassium) [mV]\n",
    "VT = -63.\n",
    "V_th = -20.\n",
    "\n",
    "# Time constants\n",
    "taue = 5.  # Excitatory synaptic time constant [ms]\n",
    "taui = 10.  # Inhibitory synaptic time constant [ms]\n",
    "\n",
    "# Reversal potentials\n",
    "Ee = 0.  # Excitatory reversal potential (mV)\n",
    "Ei = -80.  # Inhibitory reversal potential (Potassium) [mV]\n",
    "\n",
    "# excitatory synaptic weight\n",
    "we = 6.  # excitatory synaptic conductance [nS]\n",
    "\n",
    "# inhibitory synaptic weight\n",
    "wi = 67.  # inhibitory synaptic conductance [nS]"
   ]
  },
  {
   "cell_type": "code",
   "execution_count": 174,
   "metadata": {},
   "outputs": [],
   "source": [
    "class ExponCOBA(bp.Projection):\n",
    "    def __init__(self, num_pre, post, prob, g_max, tau, E):\n",
    "        super().__init__()\n",
    "    \n",
    "        self.proj = bp.dyn.ProjAlignPostMg1(\n",
    "          comm=bp.dnn.EventCSRLinear(bp.conn.FixedProb(prob, pre=num_pre, post=post.num), g_max),\n",
    "          syn=bp.dyn.Expon.desc(size=post.num, tau=tau),\n",
    "          out=bp.dyn.COBA.desc(E=E),\n",
    "          post=post\n",
    "        )\n",
    "  \n",
    "    def update(self, sps):\n",
    "        return self.proj(sps)\n",
    "    "
   ]
  },
  {
   "cell_type": "code",
   "execution_count": 175,
   "metadata": {},
   "outputs": [],
   "source": [
    "class EINet_v3(bp.DynSysGroup):\n",
    "    def __init__(self, scale=1.):\n",
    "        super().__init__()\n",
    "\n",
    "        self.num_exc = int(160 * scale)\n",
    "        self.num_inh = int(40 * scale)\n",
    "\n",
    "        self.N = HH2(self.num_exc + self.num_inh)\n",
    "        self.Esyn = ExponCOBA(self.num_exc, self.N, 0.02, g_max=0.25 / scale, tau=5, E=20.)\n",
    "        self.Isyn = ExponCOBA(self.num_inh, self.N, 0.02,  g_max=0.25 / scale, tau=10., E=-75)\n",
    "        print('weights are =' , self.Isyn.proj.comm.weight)\n",
    "    \n",
    "    def update(self):\n",
    "        # update E inputs\n",
    "        e_sps = self.N.spike[:self.num_exc]\n",
    "        self.Esyn(e_sps)\n",
    "\n",
    "        # update I inputs\n",
    "        i_sps = self.N.spike[self.num_exc:]\n",
    "        self.Isyn(i_sps)\n",
    "\n",
    "        # update neurons\n",
    "        self.N(bm.random.uniform(9,10,200))\n",
    "\n",
    "        # monitor\n",
    "        return self.N.spike"
   ]
  },
  {
   "cell_type": "code",
   "execution_count": 176,
   "metadata": {},
   "outputs": [
    {
     "name": "stdout",
     "output_type": "stream",
     "text": [
      "weights are = 0.25\n"
     ]
    },
    {
     "data": {
      "application/vnd.jupyter.widget-view+json": {
       "model_id": "4e1aa6ea90674b57b98b45f60bd0e2bc",
       "version_major": 2,
       "version_minor": 0
      },
      "text/plain": [
       "  0%|          | 0/4000 [00:00<?, ?it/s]"
      ]
     },
     "metadata": {},
     "output_type": "display_data"
    },
    {
     "data": {
      "image/png": "[encoded data removed]",
      "text/plain": [
       "<Figure size 640x480 with 1 Axes>"
      ]
     },
     "metadata": {},
     "output_type": "display_data"
    }
   ],
   "source": [
    "net = EINet_v3(scale=1)\n",
    "indices = np.arange(4000) # 100 ms\n",
    "sps = bm.for_loop(net.step_run, indices, progress_bar=True)\n",
    "bp.visualize.raster_plot(indices * bm.get_dt(), sps, show=True)"
   ]
  },
  {
   "cell_type": "code",
   "execution_count": 204,
   "metadata": {},
   "outputs": [],
   "source": [
    "num_exc = 3200\n",
    "num_inh = 800\n",
    "Cm = 200  # Membrane Capacitance [pF]\n",
    "\n",
    "gl = 0.03  # Leak Conductance   [nS]\n",
    "g_Na = 120. #* 1000\n",
    "g_Kd = 36. #* 1000  # K Conductance      [nS]\n",
    "El = -54.4  # Resting Potential [mV]\n",
    "ENa = 50.  # reversal potential (Sodium) [mV]\n",
    "EK = -77.  # reversal potential (Potassium) [mV]\n",
    "# VT = -63.\n",
    "V_th = -20.\n",
    "\n",
    "# Time constants\n",
    "taue = 5.  # Excitatory synaptic time constant [ms]\n",
    "taui = 10.  # Inhibitory synaptic time constant [ms]\n",
    "\n",
    "# Reversal potentials\n",
    "Ee = 0.  # Excitatory reversal potential (mV)\n",
    "Ei = -80.  # Inhibitory reversal potential (Potassium) [mV]\n",
    "\n",
    "# excitatory synaptic weight\n",
    "we = 6.  # excitatory synaptic conductance [nS]\n",
    "\n",
    "# inhibitory synaptic weight\n",
    "wi = 67.  # inhibitory synaptic conductance [nS]"
   ]
  },
  {
   "cell_type": "code",
   "execution_count": 205,
   "metadata": {},
   "outputs": [],
   "source": [
    "class HH(bp.dyn.NeuDyn):\n",
    "  def __init__(self, size, method='exp_auto'):\n",
    "    super(HH, self).__init__(size)\n",
    "\n",
    "    # variables\n",
    "    self.V = bm.Variable(El + (bm.random.randn(self.num) * 5 - 5))\n",
    "    self.m = bm.Variable(bm.zeros(self.num))\n",
    "    self.n = bm.Variable(bm.zeros(self.num))\n",
    "    self.h = bm.Variable(bm.zeros(self.num))\n",
    "    self.spike = bm.Variable(bm.zeros(self.num, dtype=bool))\n",
    "    self.input = bm.Variable(bm.zeros(size))\n",
    "\n",
    "    def dV(V, t, m, h, n, Isyn):\n",
    "      gna = g_Na * (m * m * m) * h\n",
    "      gkd = g_Kd * (n * n * n * n)\n",
    "      dVdt = (-gl * (V - El) - gna * (V - ENa) - gkd * (V - EK) + Isyn) / Cm\n",
    "      return dVdt\n",
    "\n",
    "    def dm(m, t, V, ):\n",
    "      m_alpha = (0.1*V+4) / (-bm.exp(-4 - 0.1*V)+1) # 0.32 * (13 - V + VT) / (bm.exp((13 - V + VT) / 4) - 1.)\n",
    "      m_beta = 4.0*bm.exp(-V-65/18.0) #0.28 * (V - VT - 40) / (bm.exp((V - VT - 40) / 5) - 1)\n",
    "      dmdt = (m_alpha * (1 - m) - m_beta * m)\n",
    "      return dmdt\n",
    "\n",
    "    def dh(h, t, V):\n",
    "      h_alpha =  0.07*bm.exp(-V-65/20.0) #0.128 * bm.exp((17 - V + VT) / 18)\n",
    "      h_beta =  1/(1+bm.exp(-3.5-0.1*V))  #4. / (1 + bm.exp(-(V - VT - 40) / 5))\n",
    "      dhdt = (h_alpha * (1 - h) - h_beta * h)\n",
    "      return dhdt\n",
    "\n",
    "    def dn(n, t, V):\n",
    "      \n",
    "      n_alpha = 0.01*(55.0+V)/ (-bm.exp(-5.5-0.1*V )+1) #0.032 * c / (bm.exp(c / 5) - 1.)\n",
    "      n_beta =  0.125*bm.exp(-V-65/80.0)  #.5 * bm.exp((10 - V + VT) / 40)\n",
    "      dndt = (n_alpha * (1 - n) - n_beta * n)\n",
    "      return dndt\n",
    "\n",
    " \n",
    "\n",
    "    \n",
    "    # functions\n",
    "    self.integral = bp.odeint(bp.JointEq([dV, dm, dh, dn]), method=method)\n",
    "\n",
    "  def update(self):\n",
    "    tdi = bp.share.get_shargs()\n",
    "    V, m, h, n = self.integral(self.V, self.m, self.h, self.n, tdi.t, Isyn=self.input, dt=tdi.dt)\n",
    "    self.spike.value = bm.logical_and(self.V < V_th, V >= V_th)\n",
    "    self.m.value = m\n",
    "    self.h.value = h\n",
    "    self.n.value = n\n",
    "    self.V.value = V\n",
    "    self.input[:] = 12."
   ]
  },
  {
   "cell_type": "code",
   "execution_count": 206,
   "metadata": {},
   "outputs": [],
   "source": [
    "class ExpCOBA(bp.synapses.TwoEndConn):\n",
    "  def __init__(self, pre, post, conn, g_max=1., delay=0., tau=8.0, E=0.,\n",
    "               method='exp_auto'):\n",
    "    super(ExpCOBA, self).__init__(pre=pre, post=post, conn=conn)\n",
    "    self.check_pre_attrs('spike')\n",
    "    self.check_post_attrs('input', 'V')\n",
    "\n",
    "    # parameters\n",
    "    self.E = E\n",
    "    self.tau = tau\n",
    "    self.delay = delay\n",
    "    self.g_max = g_max\n",
    "    self.pre2post = self.conn.require('pre2post')\n",
    "\n",
    "    # variables\n",
    "    self.g = bm.Variable(bm.zeros(self.post.num))\n",
    "\n",
    "    # function\n",
    "    self.integral = bp.odeint(lambda g, t: -g / self.tau, method=method)\n",
    "\n",
    "  def update(self):\n",
    "    self.g.value = self.integral(self.g, bp.share['t'], dt=bp.share['dt'])\n",
    "    post_sps = bm.pre2post_event_sum(self.pre.spike, self.pre2post, self.post.num, self.g_max)\n",
    "    self.g.value += post_sps\n",
    "    self.post.input += self.g * (self.E - self.post.V)"
   ]
  },
  {
   "cell_type": "code",
   "execution_count": 207,
   "metadata": {},
   "outputs": [],
   "source": [
    "class COBAHH(bp.Network):\n",
    "  def __init__(self, scale=1., method='exp_auto'):\n",
    "    num_exc = int(3200 * scale)\n",
    "    num_inh = int(800 * scale)\n",
    "    E = HH(num_exc)\n",
    "    I = HH(num_inh)\n",
    "    E2E = ExpCOBA(pre=E, post=E, conn=bp.conn.FixedProb(prob=0.02),\n",
    "                  E=Ee, g_max=we / scale, tau=taue, method=method)\n",
    "    E2I = ExpCOBA(pre=E, post=I, conn=bp.conn.FixedProb(prob=0.02),\n",
    "                  E=Ee, g_max=we / scale, tau=taue, method=method)\n",
    "    I2E = ExpCOBA(pre=I, post=E, conn=bp.conn.FixedProb(prob=0.02),\n",
    "                  E=Ei, g_max=wi / scale, tau=taui, method=method)\n",
    "    I2I = ExpCOBA(pre=I, post=I, conn=bp.conn.FixedProb(prob=0.02),\n",
    "                  E=Ei, g_max=wi / scale, tau=taui, method=method)\n",
    "\n",
    "    super(COBAHH, self).__init__(E2E, E2I, I2I, I2E, E=E, I=I)\n"
   ]
  },
  {
   "cell_type": "code",
   "execution_count": 208,
   "metadata": {},
   "outputs": [],
   "source": [
    "net = COBAHH()"
   ]
  },
  {
   "cell_type": "code",
   "execution_count": 209,
   "metadata": {},
   "outputs": [
    {
     "data": {
      "application/vnd.jupyter.widget-view+json": {
       "model_id": "510bad30508146fa8721d53a5fb60888",
       "version_major": 2,
       "version_minor": 0
      },
      "text/plain": [
       "  0%|          | 0/80000 [00:00<?, ?it/s]"
      ]
     },
     "metadata": {},
     "output_type": "display_data"
    }
   ],
   "source": [
    "runner = bp.DSRunner(net, monitors=['E.spike'])\n",
    "t = runner.run(4000.)"
   ]
  },
  {
   "cell_type": "code",
   "execution_count": 210,
   "metadata": {},
   "outputs": [
    {
     "data": {
      "image/png": "[encoded data removed]",
      "text/plain": [
       "<Figure size 1000x200 with 1 Axes>"
      ]
     },
     "metadata": {},
     "output_type": "display_data"
    }
   ],
   "source": [
    "fig, gs = bp.visualize.get_figure(1, 1, 2, 10)\n",
    "fig.add_subplot(gs[0, 0])\n",
    "bp.visualize.raster_plot(runner.mon.ts, runner.mon['E.spike'])\n",
    "plt.title('figures') #f'gc={gc}, gEE={gEE}, gEI={gEI}, gIE={gIE}, gII={gII}, seed={seed}')\n",
    "plt.ylabel('Current')\n",
    "plt.tight_layout()\n",
    "# if save_fig:\n",
    "# plt.savefig('batista_figs/hist.png')\n",
    "# else:\n",
    "# plt.show()\n",
    "# plt.close(fig)\n",
    "\n"
   ]
  }
 ],
 "metadata": {
  "kernelspec": {
   "display_name": "Python 3 (ipykernel)",
   "language": "python",
   "name": "python3"
  },
  "language_info": {
   "codemirror_mode": {
    "name": "ipython",
    "version": 3
   },
   "file_extension": ".py",
   "mimetype": "text/x-python",
   "name": "python",
   "nbconvert_exporter": "python",
   "pygments_lexer": "ipython3",
   "version": "3.9.15"
  }
 },
 "nbformat": 4,
 "nbformat_minor": 4
}
